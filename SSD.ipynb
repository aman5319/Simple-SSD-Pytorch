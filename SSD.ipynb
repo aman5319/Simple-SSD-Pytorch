{
  "nbformat": 4,
  "nbformat_minor": 0,
  "metadata": {
    "colab": {
      "name": "SSD.ipynb",
      "version": "0.3.2",
      "provenance": [],
      "collapsed_sections": [],
      "toc_visible": true,
      "include_colab_link": true
    },
    "kernelspec": {
      "name": "python3",
      "display_name": "Python 3"
    },
    "accelerator": "GPU"
  },
  "cells": [
    {
      "cell_type": "markdown",
      "metadata": {
        "id": "view-in-github",
        "colab_type": "text"
      },
      "source": [
        "<a href=\"https://colab.research.google.com/github/aman5319/Simple-SSD-Pytorch/blob/master/SSD.ipynb\" target=\"_parent\"><img src=\"https://colab.research.google.com/assets/colab-badge.svg\" alt=\"Open In Colab\"/></a>"
      ]
    },
    {
      "metadata": {
        "id": "C5jpaxJGZPM-",
        "colab_type": "text"
      },
      "cell_type": "markdown",
      "source": [
        "# SSD300"
      ]
    },
    {
      "metadata": {
        "id": "FSycNEc-HSMD",
        "colab_type": "code",
        "outputId": "bd6dddad-f03b-4332-da62-fc8869a66364",
        "colab": {
          "base_uri": "https://localhost:8080/",
          "height": 124
        }
      },
      "cell_type": "code",
      "source": [
        "from google.colab import drive\n",
        "drive.mount('/gdrive')"
      ],
      "execution_count": 1,
      "outputs": [
        {
          "output_type": "stream",
          "text": [
            "Go to this URL in a browser: https://accounts.google.com/o/oauth2/auth?client_id=947318989803-6bn6qk8qdgf4n4g3pfee6491hc0brc4i.apps.googleusercontent.com&redirect_uri=urn%3Aietf%3Awg%3Aoauth%3A2.0%3Aoob&scope=email%20https%3A%2F%2Fwww.googleapis.com%2Fauth%2Fdocs.test%20https%3A%2F%2Fwww.googleapis.com%2Fauth%2Fdrive%20https%3A%2F%2Fwww.googleapis.com%2Fauth%2Fdrive.photos.readonly%20https%3A%2F%2Fwww.googleapis.com%2Fauth%2Fpeopleapi.readonly&response_type=code\n",
            "\n",
            "Enter your authorization code:\n",
            "··········\n",
            "Mounted at /gdrive\n"
          ],
          "name": "stdout"
        }
      ]
    },
    {
      "metadata": {
        "id": "BfAV6YIIfQ3Y",
        "colab_type": "text"
      },
      "cell_type": "markdown",
      "source": [
        "## Import statements"
      ]
    },
    {
      "metadata": {
        "id": "2Xh5jHhxkLLP",
        "colab_type": "code",
        "outputId": "f174fbc7-5a53-40ad-96a2-6ad421fdd843",
        "colab": {
          "base_uri": "https://localhost:8080/",
          "height": 34
        }
      },
      "cell_type": "code",
      "source": [
        "import numpy as np\n",
        "import pandas as pd\n",
        "import matplotlib.pyplot as plt\n",
        "from matplotlib import patches,patheffects\n",
        "\n",
        "import torch\n",
        "from torchvision import datasets,transforms,models\n",
        "from torch import nn\n",
        "import torch.nn.functional as F\n",
        "from torch.utils.data import DataLoader , Dataset\n",
        "import torchvision.transforms.functional as FT\n",
        "\n",
        "from PIL import Image\n",
        "import xml.etree.ElementTree as ET\n",
        "\n",
        "\n",
        "from pathlib import Path\n",
        "import json\n",
        "import os\n",
        "import random\n",
        "from tqdm import tqdm,trange\n",
        "import time\n",
        "from math import sqrt\n",
        "\n",
        "device = torch.device(\"cuda\" if torch.cuda.is_available() else \"cpu\")\n",
        "\n",
        "print(f\"{torch.__version__} and {device}\")"
      ],
      "execution_count": 2,
      "outputs": [
        {
          "output_type": "stream",
          "text": [
            "1.0.1.post2 and cuda\n"
          ],
          "name": "stdout"
        }
      ]
    },
    {
      "metadata": {
        "id": "e8Ie1kaEk9VD",
        "colab_type": "text"
      },
      "cell_type": "markdown",
      "source": [
        "## Download the PASCAl VOC 2007 Dataset"
      ]
    },
    {
      "metadata": {
        "id": "A9MJgOTMormC",
        "colab_type": "code",
        "colab": {}
      },
      "cell_type": "code",
      "source": [
        "!wget -q http://pjreddie.com/media/files/VOCtrainval_06-Nov-2007.tar\n",
        "!tar -xf VOCtrainval_06-Nov-2007.tar\n",
        "dataPath=Path(\"VOCdevkit/VOC2007/\")"
      ],
      "execution_count": 0,
      "outputs": []
    },
    {
      "metadata": {
        "id": "XH8y67AqZek7",
        "colab_type": "text"
      },
      "cell_type": "markdown",
      "source": [
        "## Transformations"
      ]
    },
    {
      "metadata": {
        "id": "AVUWsGsIZ7YF",
        "colab_type": "text"
      },
      "cell_type": "markdown",
      "source": [
        "### Horizontal Flip"
      ]
    },
    {
      "metadata": {
        "id": "B49w3brSZ54S",
        "colab_type": "code",
        "colab": {}
      },
      "cell_type": "code",
      "source": [
        "def flip(image, boxes):\n",
        "    \"\"\"\n",
        "    Flip image horizontally.\n",
        "\n",
        "    :param image: image, a PIL Image\n",
        "    :param boxes: bounding boxes in boundary coordinates, a tensor of dimensions (n_objects, 4)\n",
        "    :return: flipped image, updated bounding box coordinates\n",
        "    \"\"\"\n",
        "    # Flip image\n",
        "    new_image = FT.hflip(image)\n",
        "\n",
        "    # Flip boxes\n",
        "    new_boxes = boxes\n",
        "    new_boxes[:, 0] = image.width - boxes[:, 0] - 1\n",
        "    new_boxes[:, 2] = image.width - boxes[:, 2] - 1\n",
        "    new_boxes = new_boxes[:, [2, 1, 0, 3]]\n",
        "\n",
        "    return new_image, new_boxes"
      ],
      "execution_count": 0,
      "outputs": []
    },
    {
      "metadata": {
        "id": "ybGK9aF4aEhC",
        "colab_type": "text"
      },
      "cell_type": "markdown",
      "source": [
        "### Resize"
      ]
    },
    {
      "metadata": {
        "id": "LH7IxCPgo5C9",
        "colab_type": "code",
        "colab": {}
      },
      "cell_type": "code",
      "source": [
        "def resize(image, boxes, dims=(300, 300), return_percent_coords=True):\n",
        "  \"\"\"\n",
        "  Resize image. For the SSD300, resize to (300, 300).\n",
        "\n",
        "  Since percent/fractional coordinates are calculated for the bounding boxes (w.r.t image dimensions) in this process,\n",
        "  you may choose to retain them.\n",
        "\n",
        "  :param image: image, a PIL Image\n",
        "  :param boxes: bounding boxes in boundary coordinates, a tensor of dimensions (n_objects, 4)\n",
        "  :return: resized image, updated bounding box coordinates (or fractional coordinates, in which case they remain the same)\n",
        "  \"\"\"\n",
        "  # Resize image\n",
        "  new_image = FT.resize(image, dims)\n",
        "\n",
        "  # Resize bounding boxes\n",
        "  old_dims = torch.FloatTensor([image.width, image.height, image.width, image.height]).unsqueeze(0)\n",
        "  new_boxes = boxes / old_dims  # percent coordinates\n",
        "\n",
        "  if not return_percent_coords:\n",
        "      new_dims = torch.FloatTensor([dims[1], dims[0], dims[1], dims[0]]).unsqueeze(0)\n",
        "      new_boxes = new_boxes * new_dims\n",
        "\n",
        "  return new_image, new_boxes\n"
      ],
      "execution_count": 0,
      "outputs": []
    },
    {
      "metadata": {
        "id": "ELWxPJKGaIoj",
        "colab_type": "text"
      },
      "cell_type": "markdown",
      "source": [
        "### Photometric Distortion"
      ]
    },
    {
      "metadata": {
        "id": "lSM1syPnZogg",
        "colab_type": "code",
        "colab": {}
      },
      "cell_type": "code",
      "source": [
        "def photometric_distort(image):\n",
        "  \"\"\"\n",
        "  Distort brightness, contrast, saturation, and hue, each with a 50% chance, in random order.\n",
        "\n",
        "  :param image: image, a PIL Image\n",
        "  :return: distorted image\n",
        "  \"\"\"\n",
        "  new_image = image\n",
        "\n",
        "  distortions = [FT.adjust_brightness,\n",
        "                 FT.adjust_contrast,\n",
        "                 FT.adjust_saturation,\n",
        "                 FT.adjust_hue]\n",
        "\n",
        "  random.shuffle(distortions)\n",
        "\n",
        "  for d in distortions:\n",
        "      if random.random() < 0.5:\n",
        "          if d.__name__ is 'adjust_hue':\n",
        "              # Caffe repo uses a 'hue_delta' of 18 - we divide by 255 because PyTorch needs a normalized value\n",
        "              adjust_factor = random.uniform(-18 / 255., 18 / 255.)\n",
        "          else:\n",
        "              # Caffe repo uses 'lower' and 'upper' values of 0.5 and 1.5 for brightness, contrast, and saturation\n",
        "              adjust_factor = random.uniform(0.5, 1.5)\n",
        "\n",
        "          # Apply this distortion\n",
        "          new_image = d(new_image, adjust_factor)\n",
        "\n",
        "  return new_image"
      ],
      "execution_count": 0,
      "outputs": []
    },
    {
      "metadata": {
        "id": "Q-G2VT1NjyOH",
        "colab_type": "text"
      },
      "cell_type": "markdown",
      "source": [
        "## Dataset"
      ]
    },
    {
      "metadata": {
        "id": "_FpQDtduLNIe",
        "colab_type": "code",
        "colab": {}
      },
      "cell_type": "code",
      "source": [
        "class VOCDataset(Dataset):\n",
        "  class_names = ('__background__',\n",
        "                 'aeroplane', 'bicycle', 'bird', 'boat',\n",
        "                 'bottle', 'bus', 'car', 'cat', 'chair',\n",
        "                 'cow', 'diningtable', 'dog', 'horse',\n",
        "                 'motorbike', 'person', 'pottedplant',\n",
        "                 'sheep', 'sofa', 'train', 'tvmonitor')\n",
        "\n",
        "  def __init__(self, data_dir, split):\n",
        "      \"\"\"Dataset for VOC data.\n",
        "      Args:\n",
        "          data_dir: the root of the VOC2007 or VOC2012 dataset, the directory contains the following sub-directories:\n",
        "              Annotations, ImageSets, JPEGImages, SegmentationClass, SegmentationObject.\n",
        "      \"\"\"\n",
        "      self.data_dir = data_dir\n",
        "      self.split = split\n",
        "      image_sets_file = self.data_dir/f\"ImageSets/Main/{self.split}.txt\"\n",
        "      self.ids = VOCDataset._read_image_ids(image_sets_file)\n",
        "\n",
        "      self.class_dict = {class_name: i for i, class_name in enumerate(self.class_names)}\n",
        "\n",
        "  def __getitem__(self, index):\n",
        "      image_id = self.ids[index]\n",
        "      boxes, labels = self._get_annotation(image_id)\n",
        "      image = self._read_image(image_id)\n",
        "      image, boxes, labels = self.transform(image, boxes, labels , self.split)\n",
        "      return image, boxes, labels\n",
        "\n",
        "  def get_image(self, index):\n",
        "      image_id = self.ids[index]\n",
        "      image = self._read_image(image_id)\n",
        "      return image\n",
        "\n",
        "  def get_annotation(self, index):\n",
        "      image_id = self.ids[index]\n",
        "      return self._get_annotation(image_id)\n",
        "\n",
        "  def __len__(self):\n",
        "      return len(self.ids)\n",
        "\n",
        "  @staticmethod\n",
        "  def _read_image_ids(image_sets_file):\n",
        "      ids = []\n",
        "      with open(image_sets_file) as f:\n",
        "          for line in f:\n",
        "              ids.append(line.rstrip())\n",
        "      return ids\n",
        "\n",
        "  def _get_annotation(self, image_id):\n",
        "      annotation_file = self.data_dir/f\"Annotations/{image_id}.xml\"\n",
        "      objects = ET.parse(annotation_file).findall(\"object\")\n",
        "      boxes = []\n",
        "      labels = []\n",
        "      for obj in objects:\n",
        "          class_name = obj.find('name').text.lower().strip()\n",
        "          bbox = obj.find('bndbox')\n",
        "          # VOC dataset format follows Matlab, in which indexes start from 0\n",
        "          x1 = float(bbox.find('xmin').text) - 1\n",
        "          y1 = float(bbox.find('ymin').text) - 1\n",
        "          x2 = float(bbox.find('xmax').text) - 1\n",
        "          y2 = float(bbox.find('ymax').text) - 1\n",
        "          boxes.append([x1, y1, x2, y2])\n",
        "          labels.append(self.class_dict[class_name])\n",
        "\n",
        "      return (np.array(boxes, dtype=np.float32),\n",
        "              np.array(labels, dtype=np.int64))\n",
        "\n",
        "  def _read_image(self, image_id):\n",
        "      image_file = self.data_dir/f\"JPEGImages/{image_id}.jpg\"\n",
        "      image = Image.open(image_file).convert(\"RGB\")\n",
        "      return image\n",
        "\n",
        "  def transform(self , image, boxes, labels , split):\n",
        "    \"\"\"\n",
        "    Apply the transformations above.\n",
        "\n",
        "    :param image: image, a PIL Image\n",
        "    :param boxes: bounding boxes in boundary coordinates, a tensor of dimensions (n_objects, 4)\n",
        "    :param labels: labels of objects, a tensor of dimensions (n_objects)\n",
        "    :return: transformed image, transformed bounding box coordinates, transformed labels\n",
        "    \"\"\"\n",
        "    assert split in {'train', 'test' , \"val\"}\n",
        "\n",
        "    # Mean and standard deviation of ImageNet data that our base VGG from torchvision was trained on\n",
        "    # see: https://pytorch.org/docs/stable/torchvision/models.html\n",
        "    self.mean = torch.tensor([0.485, 0.456, 0.406])\n",
        "    self.std = torch.tensor([0.229, 0.224, 0.225])\n",
        "\n",
        "    new_image = image\n",
        "    new_boxes = torch.from_numpy(boxes)\n",
        "    new_labels = torch.from_numpy(labels)\n",
        "    # Skip the following operations if validation/evaluation\n",
        "    if split == 'train':\n",
        "        # A series of photometric distortions in random order, each with 50% chance of occurrence, as in Caffe repo\n",
        "        new_image = photometric_distort(new_image)\n",
        "\n",
        "        # Flip image with a 50% chance\n",
        "        if random.random() < 0.5:\n",
        "            new_image, new_boxes = flip(new_image, new_boxes)\n",
        "\n",
        "    # Resize image to (300, 300) - this also converts point coordinates to fractional form\n",
        "    new_image, new_boxes = resize(new_image, new_boxes, dims=(300, 300))\n",
        "\n",
        "    # Convert PIL image to Torch tensor\n",
        "    new_image = FT.to_tensor(new_image)\n",
        "\n",
        "    # Normalize by mean and standard deviation of ImageNet data that our base VGG was trained on\n",
        "    new_image = FT.normalize(new_image, mean=self.mean.numpy(), std=self.std.numpy())\n",
        "\n",
        "    return new_image, new_boxes, new_labels\n",
        "\n",
        "  def denormalize(self , image):\n",
        "    image = image.clone().detach().to(\"cpu\")\n",
        "    if len(image.shape)==4 : image = image.squeeze(0)\n",
        "    image = image.permute(1,2,0) \n",
        "    image = image.mul_(self.std).add_(self.mean) #denormalize\n",
        "    image = torch.clamp(image,0,1)\n",
        "    return image.numpy()"
      ],
      "execution_count": 0,
      "outputs": []
    },
    {
      "metadata": {
        "id": "yTY6_W5wtjjh",
        "colab_type": "code",
        "colab": {
          "base_uri": "https://localhost:8080/",
          "height": 34
        },
        "outputId": "025cfe57-0f83-4a35-965f-b4fbd3bbe015"
      },
      "cell_type": "code",
      "source": [
        "\n",
        "trainset  = VOCDataset(dataPath,split=\"train\")\n",
        "valset = VOCDataset(dataPath,split=\"val\")\n",
        "print(len(trainset),len(valset))"
      ],
      "execution_count": 8,
      "outputs": [
        {
          "output_type": "stream",
          "text": [
            "2501 2510\n"
          ],
          "name": "stdout"
        }
      ]
    },
    {
      "metadata": {
        "id": "xJGRsAXzlDtw",
        "colab_type": "text"
      },
      "cell_type": "markdown",
      "source": [
        "\n",
        "\n",
        "## Visualization of Augmentation and Original"
      ]
    },
    {
      "metadata": {
        "id": "xLwHXmTPqqm7",
        "colab_type": "code",
        "colab": {}
      },
      "cell_type": "code",
      "source": [
        "def show_img(im, ax=None):\n",
        "    ax.imshow(im)\n",
        "    ax.grid()\n",
        "    return ax\n",
        "\n",
        "def draw_outline(o, lw):\n",
        "    o.set_path_effects([patheffects.Stroke(\n",
        "        linewidth=lw, foreground='black'), patheffects.Normal()])\n",
        "\n",
        "def draw_rect(ax, b, color='white'):\n",
        "    patch = ax.add_patch(patches.Rectangle(b[:2], *b[-2:], fill=False, edgecolor=color, lw=2))\n",
        "    draw_outline(patch, 4)\n",
        "\n",
        "def draw_text(ax, xy, txt, sz=14, color='white'):\n",
        "    text = ax.text(*xy, txt,\n",
        "        verticalalignment='top', color=color, fontsize=sz, weight='bold')\n",
        "    draw_outline(text, 3)\n",
        "\n",
        "def draw_im(dataset , index):\n",
        "    f, (ax, ax1) = plt.subplots(1, 2,figsize=(15,10))   \n",
        "    ax.set_title(\"Augmented\")\n",
        "    ax1.set_title(\"original\")\n",
        "\n",
        "    image , boxes , labels = dataset[index]\n",
        "    image=dataset.denormalize(image)\n",
        "    ax = show_img(image,ax)\n",
        "    for box ,label in zip(boxes , labels):\n",
        "        box = box * torch.FloatTensor([300]*4)\n",
        "        draw_rect(ax,box )\n",
        "        draw_text(ax, box[:2], dataset.class_names[label], sz=16)\n",
        "    \n",
        "    original = dataset.get_image(index)\n",
        "    boxes , labels = dataset.get_annotation(index)\n",
        "    ax1 = show_img(original,ax1)\n",
        "    for box ,label in zip(boxes , labels):\n",
        "      draw_rect(ax1,box )\n",
        "      draw_text(ax1, box[:2], dataset.class_names[label], sz=16)"
      ],
      "execution_count": 0,
      "outputs": []
    },
    {
      "metadata": {
        "id": "kHqK6tZxc7w8",
        "colab_type": "code",
        "colab": {
          "base_uri": "https://localhost:8080/",
          "height": 443
        },
        "outputId": "e48a7ead-44b3-458f-8e26-7f5f52c80030"
      },
      "cell_type": "code",
      "source": [
        "draw_im(trainset,64)"
      ],
      "execution_count": 10,
      "outputs": [
        {
          "output_type": "display_data",
          "data": {
            "image/png": "[encoded data removed]",
            "text/plain": [
              "<Figure size 1080x720 with 2 Axes>"
            ]
          },
          "metadata": {
            "tags": []
          }
        }
      ]
    },
    {
      "metadata": {
        "id": "fFXgN5H6VMIq",
        "colab_type": "text"
      },
      "cell_type": "markdown",
      "source": [
        "## Utility Function "
      ]
    },
    {
      "metadata": {
        "id": "kTsD7172VqTm",
        "colab_type": "text"
      },
      "cell_type": "markdown",
      "source": [
        "### Cordinate conversion (Encoding-Decoding)"
      ]
    },
    {
      "metadata": {
        "id": "Sq_ZYiVIngmo",
        "colab_type": "code",
        "colab": {}
      },
      "cell_type": "code",
      "source": [
        "\n",
        "def xy_to_cxcy(xy):\n",
        "    \"\"\"\n",
        "    Convert bounding boxes from boundary coordinates (x_min, y_min, x_max, y_max) to center-size coordinates (c_x, c_y, w, h).\n",
        "\n",
        "    :param xy: bounding boxes in boundary coordinates, a tensor of size (n_boxes, 4)\n",
        "    :return: bounding boxes in center-size coordinates, a tensor of size (n_boxes, 4)\n",
        "    \"\"\"\n",
        "    return torch.cat([(xy[:, 2:] + xy[:, :2]) / 2,  # c_x, c_y\n",
        "                      xy[:, 2:] - xy[:, :2]], 1)  # w, h\n",
        "\n",
        "\n",
        "def cxcy_to_xy(cxcy):\n",
        "    \"\"\"\n",
        "    Convert bounding boxes from center-size coordinates (c_x, c_y, w, h) to boundary coordinates (x_min, y_min, x_max, y_max).\n",
        "\n",
        "    :param cxcy: bounding boxes in center-size coordinates, a tensor of size (n_boxes, 4)\n",
        "    :return: bounding boxes in boundary coordinates, a tensor of size (n_boxes, 4)\n",
        "    \"\"\"\n",
        "    return torch.cat([cxcy[:, :2] - (cxcy[:, 2:] / 2),  # x_min, y_min\n",
        "                      cxcy[:, :2] + (cxcy[:, 2:] / 2)], 1)  # x_max, y_max\n",
        "\n",
        "\n",
        "def cxcy_to_gcxgcy(cxcy, priors_cxcy):\n",
        "    \"\"\"\n",
        "    Encode bounding boxes (that are in center-size form) w.r.t. the corresponding prior boxes (that are in center-size form).\n",
        "\n",
        "    For the center coordinates, find the offset with respect to the prior box, and scale by the size of the prior box.\n",
        "    For the size coordinates, scale by the size of the prior box, and convert to the log-space.\n",
        "\n",
        "    In the model, we are predicting bounding box coordinates in this encoded form.\n",
        "\n",
        "    :param cxcy: bounding boxes in center-size coordinates, a tensor of size (n_priors, 4)\n",
        "    :param priors_cxcy: prior boxes with respect to which the encoding must be performed, a tensor of size (n_priors, 4)\n",
        "    :return: encoded bounding boxes, a tensor of size (n_priors, 4)\n",
        "    \"\"\"\n",
        "\n",
        "    # The 10 and 5 below are referred to as 'variances' in the original Caffe repo, completely empirical\n",
        "    # They are for some sort of numerical conditioning, for 'scaling the localization gradient'\n",
        "    # See https://github.com/weiliu89/caffe/issues/155\n",
        "    return torch.cat([(cxcy[:, :2] - priors_cxcy[:, :2]) / (priors_cxcy[:, 2:] / 10),  # g_c_x, g_c_y\n",
        "                      torch.log(cxcy[:, 2:] / priors_cxcy[:, 2:]) * 5], 1)  # g_w, g_h\n",
        "\n",
        "\n",
        "def gcxgcy_to_cxcy(gcxgcy, priors_cxcy):\n",
        "    \"\"\"\n",
        "    Decode bounding box coordinates predicted by the model, since they are encoded in the form mentioned above.\n",
        "\n",
        "    They are decoded into center-size coordinates.\n",
        "\n",
        "    This is the inverse of the function above.\n",
        "\n",
        "    :param gcxgcy: encoded bounding boxes, i.e. output of the model, a tensor of size (n_priors, 4)\n",
        "    :param priors_cxcy: prior boxes with respect to which the encoding is defined, a tensor of size (n_priors, 4)\n",
        "    :return: decoded bounding boxes in center-size form, a tensor of size (n_priors, 4)\n",
        "    \"\"\"\n",
        "\n",
        "    return torch.cat([gcxgcy[:, :2] * priors_cxcy[:, 2:] / 10 + priors_cxcy[:, :2],  # c_x, c_y\n",
        "                      torch.exp(gcxgcy[:, 2:] / 5) * priors_cxcy[:, 2:]], 1)  # w, h"
      ],
      "execution_count": 0,
      "outputs": []
    },
    {
      "metadata": {
        "id": "nOPrYBk2ViPp",
        "colab_type": "text"
      },
      "cell_type": "markdown",
      "source": [
        "### Jacard Overlap(IoU)"
      ]
    },
    {
      "metadata": {
        "id": "-59vZql0VVFJ",
        "colab_type": "code",
        "colab": {}
      },
      "cell_type": "code",
      "source": [
        "\n",
        "def find_intersection(set_1, set_2):\n",
        "    \"\"\"\n",
        "    Find the intersection of every box combination between two sets of boxes that are in boundary coordinates.\n",
        "\n",
        "    :param set_1: set 1, a tensor of dimensions (n1, 4)\n",
        "    :param set_2: set 2, a tensor of dimensions (n2, 4)\n",
        "    :return: intersection of each of the boxes in set 1 with respect to each of the boxes in set 2, a tensor of dimensions (n1, n2)\n",
        "    \"\"\"\n",
        "\n",
        "    # PyTorch auto-broadcasts singleton dimensions\n",
        "    lower_bounds = torch.max(set_1[:, :2].unsqueeze(1), set_2[:, :2].unsqueeze(0))  # (n1, n2, 2)\n",
        "    upper_bounds = torch.min(set_1[:, 2:].unsqueeze(1), set_2[:, 2:].unsqueeze(0))  # (n1, n2, 2)\n",
        "    intersection_dims = torch.clamp(upper_bounds - lower_bounds, min=0)  # (n1, n2, 2)\n",
        "    return intersection_dims[:, :, 0] * intersection_dims[:, :, 1]  # (n1, n2)\n",
        "\n",
        "\n",
        "def find_jaccard_overlap(set_1, set_2):\n",
        "    \"\"\"\n",
        "    Find the Jaccard Overlap (IoU) of every box combination between two sets of boxes that are in boundary coordinates.\n",
        "\n",
        "    :param set_1: set 1, a tensor of dimensions (n1, 4)\n",
        "    :param set_2: set 2, a tensor of dimensions (n2, 4)\n",
        "    :return: Jaccard Overlap of each of the boxes in set 1 with respect to each of the boxes in set 2, a tensor of dimensions (n1, n2)\n",
        "    \"\"\"\n",
        "\n",
        "    # Find intersections\n",
        "    intersection = find_intersection(set_1, set_2)  # (n1, n2)\n",
        "\n",
        "    # Find areas of each box in both sets\n",
        "    areas_set_1 = (set_1[:, 2] - set_1[:, 0]) * (set_1[:, 3] - set_1[:, 1])  # (n1)\n",
        "    areas_set_2 = (set_2[:, 2] - set_2[:, 0]) * (set_2[:, 3] - set_2[:, 1])  # (n2)\n",
        "\n",
        "    # Find the union\n",
        "    # PyTorch auto-broadcasts singleton dimensions\n",
        "    union = areas_set_1.unsqueeze(1) + areas_set_2.unsqueeze(0) - intersection  # (n1, n2)\n",
        "\n",
        "    return intersection / union  # (n1, n2)"
      ],
      "execution_count": 0,
      "outputs": []
    },
    {
      "metadata": {
        "id": "Avf06krtaBMX",
        "colab_type": "text"
      },
      "cell_type": "markdown",
      "source": [
        "### Average Meter (Calculating running average)"
      ]
    },
    {
      "metadata": {
        "id": "yg3Io1BLZ0CZ",
        "colab_type": "code",
        "colab": {}
      },
      "cell_type": "code",
      "source": [
        "class AverageMeter(object):\n",
        "    \"\"\"\n",
        "    Keeps track of most recent, average, sum, and count of a metric.\n",
        "    \"\"\"\n",
        "\n",
        "    def __init__(self):\n",
        "        self.reset()\n",
        "\n",
        "    def reset(self):\n",
        "        self.val = 0\n",
        "        self.avg = 0\n",
        "        self.sum = 0\n",
        "        self.count = 0\n",
        "\n",
        "    def update(self, val, n=1):\n",
        "        self.val = val\n",
        "        self.sum += val * n\n",
        "        self.count += n\n",
        "        self.avg = self.sum / self.count"
      ],
      "execution_count": 0,
      "outputs": []
    },
    {
      "metadata": {
        "id": "C23EYLUPZ880",
        "colab_type": "text"
      },
      "cell_type": "markdown",
      "source": [
        "### Save Checkpoint"
      ]
    },
    {
      "metadata": {
        "id": "sgvogylZZ7wd",
        "colab_type": "code",
        "colab": {}
      },
      "cell_type": "code",
      "source": [
        "def save_checkpoint(epoch, epochs_since_improvement, model, optimizer, loss, best_loss, is_best):\n",
        "    \"\"\"\n",
        "    Save model checkpoint.\n",
        "\n",
        "    :param epoch: epoch number\n",
        "    :param epochs_since_improvement: number of epochs since last improvement\n",
        "    :param model: model\n",
        "    :param optimizer: optimizer\n",
        "    :param loss: validation loss in this epoch\n",
        "    :param best_loss: best validation loss achieved so far (not necessarily in this checkpoint)\n",
        "    :param is_best: is this checkpoint the best so far?\n",
        "    \"\"\"\n",
        "    state = {'epoch': epoch,\n",
        "             'epochs_since_improvement': epochs_since_improvement,\n",
        "             'loss': loss,\n",
        "             'best_loss': best_loss,\n",
        "             'model': model.state_dict(),\n",
        "             'optimizer': optimizer.state_dict()}\n",
        "    filename = Path(\"/gdrive/My Drive/SSD_weights/checkpoint_ssd300.pt\")\n",
        "    torch.save(state, filename)\n",
        "    # If this checkpoint is the best so far, store a copy so it doesn't get overwritten by a worse checkpoint\n",
        "    if is_best:\n",
        "        torch.save(state,   Path(\"/gdrive/My Drive/SSD_weights/BEST_checkpoint_ssd300.pt\"))"
      ],
      "execution_count": 0,
      "outputs": []
    },
    {
      "metadata": {
        "id": "ITVZW9y8cRio",
        "colab_type": "text"
      },
      "cell_type": "markdown",
      "source": [
        "### Decimate"
      ]
    },
    {
      "metadata": {
        "id": "wJ_eq8nucR6r",
        "colab_type": "code",
        "colab": {}
      },
      "cell_type": "code",
      "source": [
        "def decimate(tensor, m):\n",
        "    \"\"\"\n",
        "    Decimate a tensor by a factor 'm', i.e. downsample by keeping every 'm'th value.\n",
        "\n",
        "    This is used when we convert FC layers to equivalent Convolutional layers, BUT of a smaller size.\n",
        "\n",
        "    :param tensor: tensor to be decimated\n",
        "    :param m: list of decimation factors for each dimension of the tensor; None if not to be decimated along a dimension\n",
        "    :return: decimated tensor\n",
        "    \"\"\"\n",
        "    assert tensor.dim() == len(m)\n",
        "    for d in range(tensor.dim()):\n",
        "        if m[d] is not None:\n",
        "            tensor = tensor.index_select(dim=d,\n",
        "                                         index=torch.arange(start=0, end=tensor.size(d), step=m[d]).long())\n",
        "\n",
        "    return tensor\n",
        "\n",
        "  \n",
        "def clip_gradient(optimizer, grad_clip):\n",
        "    \"\"\"\n",
        "    Clips gradients computed during backpropagation to avoid explosion of gradients.\n",
        "\n",
        "    :param optimizer: optimizer with the gradients to be clipped\n",
        "    :param grad_clip: clip value\n",
        "    \"\"\"\n",
        "    for group in optimizer.param_groups:\n",
        "        for param in group['params']:\n",
        "            if param.grad is not None:\n",
        "                param.grad.data.clamp_(-grad_clip, grad_clip)"
      ],
      "execution_count": 0,
      "outputs": []
    },
    {
      "metadata": {
        "id": "vasjxBTDWBK1",
        "colab_type": "text"
      },
      "cell_type": "markdown",
      "source": [
        "## Model Architecture"
      ]
    },
    {
      "metadata": {
        "id": "OQyJFzhoWEKx",
        "colab_type": "text"
      },
      "cell_type": "markdown",
      "source": [
        "### VGG Base"
      ]
    },
    {
      "metadata": {
        "id": "pIOd3vJqVaNT",
        "colab_type": "code",
        "colab": {}
      },
      "cell_type": "code",
      "source": [
        "class VGGBase(nn.Module):\n",
        "    \"\"\"\n",
        "    VGG base convolutions to produce lower-level feature maps.\n",
        "    \"\"\"\n",
        "\n",
        "    def __init__(self):\n",
        "        super(VGGBase, self).__init__()\n",
        "\n",
        "        # Standard convolutional layers in VGG16\n",
        "        self.conv1_1 = nn.Conv2d(3, 64, kernel_size=3, padding=1)  # stride = 1, by default\n",
        "        self.conv1_2 = nn.Conv2d(64, 64, kernel_size=3, padding=1)\n",
        "        self.pool1 = nn.MaxPool2d(kernel_size=2, stride=2)\n",
        "\n",
        "        self.conv2_1 = nn.Conv2d(64, 128, kernel_size=3, padding=1)\n",
        "        self.conv2_2 = nn.Conv2d(128, 128, kernel_size=3, padding=1)\n",
        "        self.pool2 = nn.MaxPool2d(kernel_size=2, stride=2)\n",
        "\n",
        "        self.conv3_1 = nn.Conv2d(128, 256, kernel_size=3, padding=1)\n",
        "        self.conv3_2 = nn.Conv2d(256, 256, kernel_size=3, padding=1)\n",
        "        self.conv3_3 = nn.Conv2d(256, 256, kernel_size=3, padding=1)\n",
        "        self.pool3 = nn.MaxPool2d(kernel_size=2, stride=2, ceil_mode=True)  # ceiling (not floor) here for even dims\n",
        "\n",
        "        self.conv4_1 = nn.Conv2d(256, 512, kernel_size=3, padding=1)\n",
        "        self.conv4_2 = nn.Conv2d(512, 512, kernel_size=3, padding=1)\n",
        "        self.conv4_3 = nn.Conv2d(512, 512, kernel_size=3, padding=1)\n",
        "        self.pool4 = nn.MaxPool2d(kernel_size=2, stride=2)\n",
        "\n",
        "        self.conv5_1 = nn.Conv2d(512, 512, kernel_size=3, padding=1)\n",
        "        self.conv5_2 = nn.Conv2d(512, 512, kernel_size=3, padding=1)\n",
        "        self.conv5_3 = nn.Conv2d(512, 512, kernel_size=3, padding=1)\n",
        "        self.pool5 = nn.MaxPool2d(kernel_size=3, stride=1, padding=1)  # retains size because stride is 1 (and padding)\n",
        "\n",
        "        # Replacements for FC6 and FC7 in VGG16\n",
        "        self.conv6 = nn.Conv2d(512, 1024, kernel_size=3, padding=6, dilation=6)  # atrous convolution\n",
        "\n",
        "        self.conv7 = nn.Conv2d(1024, 1024, kernel_size=1)\n",
        "\n",
        "    def forward(self, image):\n",
        "        \"\"\"\n",
        "        Forward propagation.\n",
        "\n",
        "        :param image: images, a tensor of dimensions (N, 3, 300, 300)\n",
        "        :return: lower-level feature maps conv4_3 and conv7\n",
        "        \"\"\"\n",
        "        out = F.relu(self.conv1_1(image))  # (N, 64, 300, 300)\n",
        "        out = F.relu(self.conv1_2(out))  # (N, 64, 300, 300)\n",
        "        out = self.pool1(out)  # (N, 64, 150, 150)\n",
        "\n",
        "        out = F.relu(self.conv2_1(out))  # (N, 128, 150, 150)\n",
        "        out = F.relu(self.conv2_2(out))  # (N, 128, 150, 150)\n",
        "        out = self.pool2(out)  # (N, 128, 75, 75)\n",
        "\n",
        "        out = F.relu(self.conv3_1(out))  # (N, 256, 75, 75)\n",
        "        out = F.relu(self.conv3_2(out))  # (N, 256, 75, 75)\n",
        "        out = F.relu(self.conv3_3(out))  # (N, 256, 75, 75)\n",
        "        out = self.pool3(out)  # (N, 256, 38, 38), it would have been 37 if not for ceil_mode = True\n",
        "\n",
        "        out = F.relu(self.conv4_1(out))  # (N, 512, 38, 38)\n",
        "        out = F.relu(self.conv4_2(out))  # (N, 512, 38, 38)\n",
        "        out = F.relu(self.conv4_3(out))  # (N, 512, 38, 38)\n",
        "        conv4_3_feats = out  # (N, 512, 38, 38)\n",
        "        out = self.pool4(out)  # (N, 512, 19, 19)\n",
        "\n",
        "        out = F.relu(self.conv5_1(out))  # (N, 512, 19, 19)\n",
        "        out = F.relu(self.conv5_2(out))  # (N, 512, 19, 19)\n",
        "        out = F.relu(self.conv5_3(out))  # (N, 512, 19, 19)\n",
        "        out = self.pool5(out)  # (N, 512, 19, 19), pool5 does not reduce dimensions\n",
        "\n",
        "        out = F.relu(self.conv6(out))  # (N, 1024, 19, 19)\n",
        "\n",
        "        conv7_feats = F.relu(self.conv7(out))  # (N, 1024, 19, 19)\n",
        "\n",
        "        # Lower-level feature maps\n",
        "        return conv4_3_feats, conv7_feats"
      ],
      "execution_count": 0,
      "outputs": []
    },
    {
      "metadata": {
        "id": "WKXurvBuWMmi",
        "colab_type": "text"
      },
      "cell_type": "markdown",
      "source": [
        "### AuxiliaryConvolutions"
      ]
    },
    {
      "metadata": {
        "id": "WRBTwVJ4WJ7O",
        "colab_type": "code",
        "colab": {}
      },
      "cell_type": "code",
      "source": [
        "class AuxiliaryConvolutions(nn.Module):\n",
        "    \"\"\"\n",
        "    Additional convolutions to produce higher-level feature maps.\n",
        "    \"\"\"\n",
        "\n",
        "    def __init__(self):\n",
        "        super(AuxiliaryConvolutions, self).__init__()\n",
        "\n",
        "        # Auxiliary/additional convolutions on top of the VGG base\n",
        "        self.conv8_1 = nn.Conv2d(1024, 256, kernel_size=1, padding=0)  # stride = 1, by default\n",
        "        self.conv8_2 = nn.Conv2d(256, 512, kernel_size=3, stride=2, padding=1)  # dim. reduction because stride > 1\n",
        "\n",
        "        self.conv9_1 = nn.Conv2d(512, 128, kernel_size=1, padding=0)\n",
        "        self.conv9_2 = nn.Conv2d(128, 256, kernel_size=3, stride=2, padding=1)  # dim. reduction because stride > 1\n",
        "\n",
        "        self.conv10_1 = nn.Conv2d(256, 128, kernel_size=1, padding=0)\n",
        "        self.conv10_2 = nn.Conv2d(128, 256, kernel_size=3, padding=0)  # dim. reduction because padding = 0\n",
        "\n",
        "        self.conv11_1 = nn.Conv2d(256, 128, kernel_size=1, padding=0)\n",
        "        self.conv11_2 = nn.Conv2d(128, 256, kernel_size=3, padding=0)  # dim. reduction because padding = 0\n",
        "\n",
        "    def forward(self, conv7_feats):\n",
        "        \"\"\"\n",
        "        Forward propagation.\n",
        "\n",
        "        :param conv7_feats: lower-level conv7 feature map, a tensor of dimensions (N, 1024, 19, 19)\n",
        "        :return: higher-level feature maps conv8_2, conv9_2, conv10_2, and conv11_2\n",
        "        \"\"\"\n",
        "        out = F.relu(self.conv8_1(conv7_feats))  # (N, 256, 19, 19)\n",
        "        out = F.relu(self.conv8_2(out))  # (N, 512, 10, 10)\n",
        "        conv8_2_feats = out  # (N, 512, 10, 10)\n",
        "\n",
        "        out = F.relu(self.conv9_1(out))  # (N, 128, 10, 10)\n",
        "        out = F.relu(self.conv9_2(out))  # (N, 256, 5, 5)\n",
        "        conv9_2_feats = out  # (N, 256, 5, 5)\n",
        "\n",
        "        out = F.relu(self.conv10_1(out))  # (N, 128, 5, 5)\n",
        "        out = F.relu(self.conv10_2(out))  # (N, 256, 3, 3)\n",
        "        conv10_2_feats = out  # (N, 256, 3, 3)\n",
        "\n",
        "        out = F.relu(self.conv11_1(out))  # (N, 128, 3, 3)\n",
        "        conv11_2_feats = F.relu(self.conv11_2(out))  # (N, 256, 1, 1)\n",
        "\n",
        "        # Higher-level feature maps\n",
        "        return conv8_2_feats, conv9_2_feats, conv10_2_feats,conv11_2_feats"
      ],
      "execution_count": 0,
      "outputs": []
    },
    {
      "metadata": {
        "id": "wrXAWepgWbUG",
        "colab_type": "text"
      },
      "cell_type": "markdown",
      "source": [
        "### Prediction Convolution"
      ]
    },
    {
      "metadata": {
        "id": "KON5BK6-WauA",
        "colab_type": "code",
        "colab": {}
      },
      "cell_type": "code",
      "source": [
        "class PredictionConvolutions(nn.Module):\n",
        "    \"\"\"\n",
        "    Convolutions to predict class scores and bounding boxes using lower and higher-level feature maps.\n",
        "\n",
        "    The bounding boxes (locations) are predicted as encoded offsets w.r.t each of the 8732 prior (default) boxes.\n",
        "    See 'cxcy_to_gcxgcy' in utils.py for the encoding definition.\n",
        "\n",
        "    The class scores represent the scores of each object class in each of the 8732 bounding boxes located.\n",
        "    A high score for 'background' = no object.\n",
        "    \"\"\"\n",
        "\n",
        "    def __init__(self, n_classes):\n",
        "        \"\"\"\n",
        "        :param n_classes: number of different types of objects\n",
        "        \"\"\"\n",
        "        super(PredictionConvolutions, self).__init__()\n",
        "\n",
        "        self.n_classes = n_classes\n",
        "\n",
        "        # Number of prior-boxes we are considering per position in each feature map\n",
        "        n_boxes = {'conv4_3': 4,\n",
        "                   'conv7': 6,\n",
        "                   'conv8_2': 6,\n",
        "                   'conv9_2': 6,\n",
        "                   'conv10_2': 4,\n",
        "                   'conv11_2': 4}\n",
        "        # 4 prior-boxes implies we use 4 different aspect ratios, etc.\n",
        "\n",
        "        # Localization prediction convolutions (predict offsets w.r.t prior-boxes)\n",
        "        self.loc_conv4_3 = nn.Conv2d(512, n_boxes['conv4_3'] * 4, kernel_size=3, padding=1)\n",
        "        self.loc_conv7 = nn.Conv2d(1024, n_boxes['conv7'] * 4, kernel_size=3, padding=1)\n",
        "        self.loc_conv8_2 = nn.Conv2d(512, n_boxes['conv8_2'] * 4, kernel_size=3, padding=1)\n",
        "        self.loc_conv9_2 = nn.Conv2d(256, n_boxes['conv9_2'] * 4, kernel_size=3, padding=1)\n",
        "        self.loc_conv10_2 = nn.Conv2d(256, n_boxes['conv10_2'] * 4, kernel_size=3, padding=1)\n",
        "        self.loc_conv11_2 = nn.Conv2d(256, n_boxes['conv11_2'] * 4, kernel_size=3, padding=1)\n",
        "\n",
        "        # Class prediction convolutions (predict classes in localization boxes)\n",
        "        self.cl_conv4_3 = nn.Conv2d(512, n_boxes['conv4_3'] * n_classes, kernel_size=3, padding=1)\n",
        "        self.cl_conv7 = nn.Conv2d(1024, n_boxes['conv7'] * n_classes, kernel_size=3, padding=1)\n",
        "        self.cl_conv8_2 = nn.Conv2d(512, n_boxes['conv8_2'] * n_classes, kernel_size=3, padding=1)\n",
        "        self.cl_conv9_2 = nn.Conv2d(256, n_boxes['conv9_2'] * n_classes, kernel_size=3, padding=1)\n",
        "        self.cl_conv10_2 = nn.Conv2d(256, n_boxes['conv10_2'] * n_classes, kernel_size=3, padding=1)\n",
        "        self.cl_conv11_2 = nn.Conv2d(256, n_boxes['conv11_2'] * n_classes, kernel_size=3, padding=1)\n",
        "\n",
        "    def forward(self, conv4_3_feats, conv7_feats, conv8_2_feats, conv9_2_feats, conv10_2_feats, conv11_2_feats):\n",
        "        \"\"\"\n",
        "        Forward propagation.\n",
        "\n",
        "        :param conv4_3_feats: conv4_3 feature map, a tensor of dimensions (N, 512, 38, 38)\n",
        "        :param conv7_feats: conv7 feature map, a tensor of dimensions (N, 1024, 19, 19)\n",
        "        :param conv8_2_feats: conv8_2 feature map, a tensor of dimensions (N, 512, 10, 10)\n",
        "        :param conv9_2_feats: conv9_2 feature map, a tensor of dimensions (N, 256, 5, 5)\n",
        "        :param conv10_2_feats: conv10_2 feature map, a tensor of dimensions (N, 256, 3, 3)\n",
        "        :param conv11_2_feats: conv11_2 feature map, a tensor of dimensions (N, 256, 1, 1)\n",
        "        :return: 8732 locations and class scores (i.e. w.r.t each prior box) for each image\n",
        "        \"\"\"\n",
        "        batch_size = conv4_3_feats.size(0)\n",
        "\n",
        "        # Predict localization boxes' bounds (as offsets w.r.t prior-boxes)\n",
        "        l_conv4_3 = self.loc_conv4_3(conv4_3_feats)  # (N, 16, 38, 38)\n",
        "        l_conv4_3 = l_conv4_3.permute(0, 2, 3,\n",
        "                                      1).contiguous()  # (N, 38, 38, 16), to match prior-box order (after .view())\n",
        "        # (.contiguous() ensures it is stored in a contiguous chunk of memory, needed for .view() below)\n",
        "        l_conv4_3 = l_conv4_3.view(batch_size, -1, 4)  # (N, 5776, 4), there are a total 5776 boxes on this feature map\n",
        "\n",
        "        l_conv7 = self.loc_conv7(conv7_feats)  # (N, 24, 19, 19)\n",
        "        l_conv7 = l_conv7.permute(0, 2, 3, 1).contiguous()  # (N, 19, 19, 24)\n",
        "        l_conv7 = l_conv7.view(batch_size, -1, 4)  # (N, 2166, 4), there are a total 2116 boxes on this feature map\n",
        "\n",
        "        l_conv8_2 = self.loc_conv8_2(conv8_2_feats)  # (N, 24, 10, 10)\n",
        "        l_conv8_2 = l_conv8_2.permute(0, 2, 3, 1).contiguous()  # (N, 10, 10, 24)\n",
        "        l_conv8_2 = l_conv8_2.view(batch_size, -1, 4)  # (N, 600, 4)\n",
        "\n",
        "        l_conv9_2 = self.loc_conv9_2(conv9_2_feats)  # (N, 24, 5, 5)\n",
        "        l_conv9_2 = l_conv9_2.permute(0, 2, 3, 1).contiguous()  # (N, 5, 5, 24)\n",
        "        l_conv9_2 = l_conv9_2.view(batch_size, -1, 4)  # (N, 150, 4)\n",
        "\n",
        "        l_conv10_2 = self.loc_conv10_2(conv10_2_feats)  # (N, 16, 3, 3)\n",
        "        l_conv10_2 = l_conv10_2.permute(0, 2, 3, 1).contiguous()  # (N, 3, 3, 16)\n",
        "        l_conv10_2 = l_conv10_2.view(batch_size, -1, 4)  # (N, 36, 4)\n",
        "\n",
        "        l_conv11_2 = self.loc_conv11_2(conv11_2_feats)  # (N, 16, 1, 1)\n",
        "        l_conv11_2 = l_conv11_2.permute(0, 2, 3, 1).contiguous()  # (N, 1, 1, 16)\n",
        "        l_conv11_2 = l_conv11_2.view(batch_size, -1, 4)  # (N, 4, 4)\n",
        "\n",
        "        # Predict classes in localization boxes\n",
        "        c_conv4_3 = self.cl_conv4_3(conv4_3_feats)  # (N, 4 * n_classes, 38, 38)\n",
        "        c_conv4_3 = c_conv4_3.permute(0, 2, 3,\n",
        "                                      1).contiguous()  # (N, 38, 38, 4 * n_classes), to match prior-box order (after .view())\n",
        "        c_conv4_3 = c_conv4_3.view(batch_size, -1,\n",
        "                                   self.n_classes)  # (N, 5776, n_classes), there are a total 5776 boxes on this feature map\n",
        "\n",
        "        c_conv7 = self.cl_conv7(conv7_feats)  # (N, 6 * n_classes, 19, 19)\n",
        "        c_conv7 = c_conv7.permute(0, 2, 3, 1).contiguous()  # (N, 19, 19, 6 * n_classes)\n",
        "        c_conv7 = c_conv7.view(batch_size, -1,\n",
        "                               self.n_classes)  # (N, 2166, n_classes), there are a total 2116 boxes on this feature map\n",
        "\n",
        "        c_conv8_2 = self.cl_conv8_2(conv8_2_feats)  # (N, 6 * n_classes, 10, 10)\n",
        "        c_conv8_2 = c_conv8_2.permute(0, 2, 3, 1).contiguous()  # (N, 10, 10, 6 * n_classes)\n",
        "        c_conv8_2 = c_conv8_2.view(batch_size, -1, self.n_classes)  # (N, 600, n_classes)\n",
        "\n",
        "        c_conv9_2 = self.cl_conv9_2(conv9_2_feats)  # (N, 6 * n_classes, 5, 5)\n",
        "        c_conv9_2 = c_conv9_2.permute(0, 2, 3, 1).contiguous()  # (N, 5, 5, 6 * n_classes)\n",
        "        c_conv9_2 = c_conv9_2.view(batch_size, -1, self.n_classes)  # (N, 150, n_classes)\n",
        "\n",
        "        c_conv10_2 = self.cl_conv10_2(conv10_2_feats)  # (N, 4 * n_classes, 3, 3)\n",
        "        c_conv10_2 = c_conv10_2.permute(0, 2, 3, 1).contiguous()  # (N, 3, 3, 4 * n_classes)\n",
        "        c_conv10_2 = c_conv10_2.view(batch_size, -1, self.n_classes)  # (N, 36, n_classes)\n",
        "\n",
        "        c_conv11_2 = self.cl_conv11_2(conv11_2_feats)  # (N, 4 * n_classes, 1, 1)\n",
        "        c_conv11_2 = c_conv11_2.permute(0, 2, 3, 1).contiguous()  # (N, 1, 1, 4 * n_classes)\n",
        "        c_conv11_2 = c_conv11_2.view(batch_size, -1, self.n_classes)  # (N, 4, n_classes)\n",
        "\n",
        "        # A total of 8732 boxes\n",
        "        # Concatenate in this specific order (i.e. must match the order of the prior-boxes)\n",
        "        locs = torch.cat([l_conv4_3, l_conv7, l_conv8_2, l_conv9_2, l_conv10_2, l_conv11_2], dim=1)  # (N, 8732, 4)\n",
        "        classes_scores = torch.cat([c_conv4_3, c_conv7, c_conv8_2, c_conv9_2, c_conv10_2, c_conv11_2],\n",
        "                                   dim=1)  # (N, 8732, n_classes)\n",
        "\n",
        "        return locs, classes_scores"
      ],
      "execution_count": 0,
      "outputs": []
    },
    {
      "metadata": {
        "id": "wNDBULWWWoC5",
        "colab_type": "text"
      },
      "cell_type": "markdown",
      "source": [
        "## SSD 300"
      ]
    },
    {
      "metadata": {
        "id": "1u8X46FjWl21",
        "colab_type": "code",
        "colab": {}
      },
      "cell_type": "code",
      "source": [
        "class SSD300(nn.Module):\n",
        "    \"\"\"\n",
        "    The SSD300 network - encapsulates the base VGG network, auxiliary, and prediction convolutions.\n",
        "    \"\"\"\n",
        "\n",
        "    def __init__(self, n_classes):\n",
        "        super(SSD300, self).__init__()\n",
        "\n",
        "        self.n_classes = n_classes\n",
        "\n",
        "        self.base = VGGBase()\n",
        "        self.aux_convs = AuxiliaryConvolutions()\n",
        "        self.pred_convs = PredictionConvolutions(n_classes)\n",
        "\n",
        "        # Since lower level features (conv4_3_feats) have considerably larger scales, we take the L2 norm and rescale\n",
        "        # Rescale factor is initially set at 20, but is learned for each channel during back-prop\n",
        "        self.rescale_factors = nn.Parameter(torch.FloatTensor(1, 512, 1, 1))  # there are 512 channels in conv4_3_feats\n",
        "        nn.init.constant_(self.rescale_factors, 20)\n",
        "\n",
        "        # Prior boxes\n",
        "        self.priors_cxcy = self.create_prior_boxes()\n",
        "        self.init_conv2d()\n",
        "    def init_conv2d(self):\n",
        "      \"\"\"\n",
        "      Initialize convolution parameters.\n",
        "\n",
        "      Note that we only do this for the auxiliary and prediction convolutions. The VGG base is a pre-trained model.\n",
        "      \"\"\"\n",
        "      for c in self.aux_convs.children():\n",
        "          if isinstance(c, nn.Conv2d):\n",
        "              nn.init.constant_(c.bias, 0.)\n",
        "      for c in self.pred_convs.children():\n",
        "          if isinstance(c, nn.Conv2d):\n",
        "              nn.init.constant_(c.bias, 0.)\n",
        "              \n",
        "    def load_pretrained_base(self):\n",
        "        \"\"\"\n",
        "        As in the paper, we use a VGG-16 pretrained on the ImageNet task as the base network.\n",
        "        There's one available in PyTorch, see https://pytorch.org/docs/stable/torchvision/models.html#torchvision.models.vgg16\n",
        "        We copy these parameters into our network. It's straightforward for conv1 to conv5.\n",
        "        However, the original VGG-16 does not contain the conv6 and con7 layers.\n",
        "        Therefore, we convert fc6 and fc7 into convolutional layers, and subsample by decimation. See 'decimate' in utils.py.\n",
        "        \"\"\"\n",
        "        # Current state of VGG base\n",
        "        base_state_dict = self.base.state_dict()\n",
        "        base_param_names = list(base_state_dict.keys())\n",
        "\n",
        "        # Pretrained VGG base\n",
        "        pretrained_base_state_dict = models.vgg16(pretrained=True).state_dict()\n",
        "        pretrained_base_param_names = list(pretrained_base_state_dict.keys())\n",
        "\n",
        "        # Transfer conv. parameters from pretrained model to current model\n",
        "        for i, param in enumerate(base_param_names[:-4]):  # excluding conv6 and conv7 parameters\n",
        "            base_state_dict[param] = pretrained_base_state_dict[pretrained_base_param_names[i]]\n",
        "\n",
        "        # Convert fc6, fc7 to convolutional layers, and subsample (by decimation) to sizes of conv6 and conv7\n",
        "        # fc6\n",
        "        conv_fc6_weight = pretrained_base_state_dict['classifier.0.weight'].view(4096, 512, 7, 7)  # (4096, 512, 7, 7)\n",
        "        conv_fc6_bias = pretrained_base_state_dict['classifier.0.bias']  # (4096)\n",
        "        base_state_dict['conv6.weight'] = decimate(conv_fc6_weight, m=[4, None, 3, 3])  # (1024, 512, 3, 3)\n",
        "        base_state_dict['conv6.bias'] = decimate(conv_fc6_bias, m=[4])  # (1024)\n",
        "        # fc7\n",
        "        conv_fc7_weight = pretrained_base_state_dict['classifier.3.weight'].view(4096, 4096, 1, 1)  # (4096, 4096, 1, 1)\n",
        "        conv_fc7_bias = pretrained_base_state_dict['classifier.3.bias']  # (4096)\n",
        "        base_state_dict['conv7.weight'] = decimate(conv_fc7_weight, m=[4, 4, None, None])  # (1024, 1024, 1, 1)\n",
        "        base_state_dict['conv7.bias'] = decimate(conv_fc7_bias, m=[4])  # (1024)\n",
        "\n",
        "        # Note: an FC layer of size (K) operating on a flattened version (C*H*W) of a 2D image of size (C, H, W)...\n",
        "        # ...is equivalent to a convolutional layer with kernel size (H, W), input channels C, output channels K...\n",
        "        # ...operating on the 2D image of size (C, H, W) without padding\n",
        "\n",
        "        self.base.load_state_dict(base_state_dict)\n",
        "        \n",
        "        for layers in [*self.base.modules()][1:6]:\n",
        "          for param in layers.parameters():\n",
        "            param.requires_grad_(False)              \n",
        "        print(\"Freeze first 4 layers\")\n",
        "\n",
        "        print(\"\\nLoaded base model.\\n\")\n",
        "    def forward(self, image):\n",
        "        \"\"\"\n",
        "        Forward propagation.\n",
        "\n",
        "        :param image: images, a tensor of dimensions (N, 3, 300, 300)\n",
        "        :return: 8732 locations and class scores (i.e. w.r.t each prior box) for each image\n",
        "        \"\"\"\n",
        "        # Run VGG base network convolutions (lower level feature map generators)\n",
        "        conv4_3_feats, conv7_feats = self.base(image)  # (N, 512, 38, 38), (N, 1024, 19, 19)\n",
        "\n",
        "        # Rescale conv4_3 after L2 norm\n",
        "        norm = conv4_3_feats.pow(2).sum(dim=1, keepdim=True).sqrt()  # (N, 1, 38, 38)\n",
        "        conv4_3_feats = conv4_3_feats / norm  # (N, 512, 38, 38)\n",
        "        conv4_3_feats = conv4_3_feats * self.rescale_factors  # (N, 512, 38, 38)\n",
        "        # (PyTorch autobroadcasts singleton dimensions during arithmetic)\n",
        "\n",
        "        # Run auxiliary convolutions (higher level feature map generators)\n",
        "        conv8_2_feats, conv9_2_feats, conv10_2_feats, conv11_2_feats =self.aux_convs(conv7_feats)  # (N, 512, 10, 10),  (N, 256, 5, 5), (N, 256, 3, 3), (N, 256, 1, 1)\n",
        "\n",
        "        # Run prediction convolutions (predict offsets w.r.t prior-boxes and classes in each resulting localization box)\n",
        "        locs, classes_scores = self.pred_convs(conv4_3_feats, conv7_feats, conv8_2_feats, conv9_2_feats, conv10_2_feats,conv11_2_feats)  # (N, 8732, 4), (N, 8732, n_classes)\n",
        "\n",
        "        return locs, classes_scores\n",
        "\n",
        "    def create_prior_boxes(self):\n",
        "        \"\"\"\n",
        "        Create the 8732 prior (default) boxes for the SSD300, as defined in the paper.\n",
        "\n",
        "        :return: prior boxes in center-size coordinates, a tensor of dimensions (8732, 4)\n",
        "        \"\"\"\n",
        "        fmap_dims = {'conv4_3': 38,\n",
        "                     'conv7': 19,\n",
        "                     'conv8_2': 10,\n",
        "                     'conv9_2': 5,\n",
        "                     'conv10_2': 3,\n",
        "                     'conv11_2': 1}\n",
        "\n",
        "        obj_scales = {'conv4_3': 0.1,\n",
        "                      'conv7': 0.2,\n",
        "                      'conv8_2': 0.375,\n",
        "                      'conv9_2': 0.55,\n",
        "                      'conv10_2': 0.725,\n",
        "                      'conv11_2': 0.9}\n",
        "\n",
        "        aspect_ratios = {'conv4_3': [1., 2., 0.5],\n",
        "                         'conv7': [1., 2., 3., 0.5, .333],\n",
        "                         'conv8_2': [1., 2., 3., 0.5, .333],\n",
        "                         'conv9_2': [1., 2., 3., 0.5, .333],\n",
        "                         'conv10_2': [1., 2., 0.5],\n",
        "                         'conv11_2': [1., 2., 0.5]}\n",
        "\n",
        "        fmaps = list(fmap_dims.keys())\n",
        "\n",
        "        prior_boxes = []\n",
        "\n",
        "        for k, fmap in enumerate(fmaps):\n",
        "            for i in range(fmap_dims[fmap]):\n",
        "                for j in range(fmap_dims[fmap]):\n",
        "                    cx = (j + 0.5) / fmap_dims[fmap]\n",
        "                    cy = (i + 0.5) / fmap_dims[fmap]\n",
        "\n",
        "                    for ratio in aspect_ratios[fmap]:\n",
        "                        prior_boxes.append([cx, cy, obj_scales[fmap] * sqrt(ratio), obj_scales[fmap] / sqrt(ratio)])\n",
        "\n",
        "                        # For an aspect ratio of 1, use an additional prior whose scale is the geometric mean of the\n",
        "                        # scale of the current feature map and the scale of the next feature map\n",
        "                        if ratio == 1.:\n",
        "                            try:\n",
        "                                additional_scale = sqrt(obj_scales[fmap] * obj_scales[fmaps[k + 1]])\n",
        "                            # For the last feature map, there is no \"next\" feature map\n",
        "                            except IndexError:\n",
        "                                additional_scale = 1.\n",
        "                            prior_boxes.append([cx, cy, additional_scale, additional_scale])\n",
        "\n",
        "        prior_boxes = torch.FloatTensor(prior_boxes).to(device)  # (8732, 4)\n",
        "        prior_boxes.clamp_(0, 1)  # (8732, 4)\n",
        "\n",
        "        return prior_boxes"
      ],
      "execution_count": 0,
      "outputs": []
    },
    {
      "metadata": {
        "id": "gEZbzhYaXatJ",
        "colab_type": "text"
      },
      "cell_type": "markdown",
      "source": [
        "## MultiBox Loss Function"
      ]
    },
    {
      "metadata": {
        "id": "53ynStxrXWdd",
        "colab_type": "code",
        "colab": {}
      },
      "cell_type": "code",
      "source": [
        "class MultiBoxLoss(nn.Module):\n",
        "    \"\"\"\n",
        "    The MultiBox loss, a loss function for object detection.\n",
        "\n",
        "    This is a combination of:\n",
        "    (1) a localization loss for the predicted locations of the boxes, and\n",
        "    (2) a confidence loss for the predicted class scores.\n",
        "    \"\"\"\n",
        "\n",
        "    def __init__(self, priors_cxcy, threshold=0.5, neg_pos_ratio=3, alpha=1.):\n",
        "        super(MultiBoxLoss, self).__init__()\n",
        "        self.priors_cxcy = priors_cxcy\n",
        "        self.priors_xy = cxcy_to_xy(priors_cxcy)\n",
        "        self.threshold = threshold\n",
        "        self.neg_pos_ratio = neg_pos_ratio\n",
        "        self.alpha = alpha\n",
        "\n",
        "        self.smooth_l1 = nn.L1Loss()\n",
        "        self.cross_entropy = nn.CrossEntropyLoss(reduction=\"none\")\n",
        "\n",
        "    def forward(self, predicted_locs, predicted_scores, boxes, labels):\n",
        "        \"\"\"\n",
        "        Forward propagation.\n",
        "\n",
        "        :param predicted_locs: predicted locations/boxes w.r.t the 8732 prior boxes, a tensor of dimensions (N, 8732, 4)\n",
        "        :param predicted_scores: class scores for each of the encoded locations/boxes, a tensor of dimensions (N, 8732, n_classes)\n",
        "        :param boxes: true object bounding boxes in boundary coordinates, a list of N tensors\n",
        "        :param labels: true object labels, a list of N tensors\n",
        "        :return: multibox loss, a scalar\n",
        "        \"\"\"\n",
        "        batch_size = predicted_locs.size(0)\n",
        "        n_priors = self.priors_cxcy.size(0)\n",
        "        n_classes = predicted_scores.size(2)\n",
        "\n",
        "        assert n_priors == predicted_locs.size(1) == predicted_scores.size(1)\n",
        "\n",
        "        true_locs = torch.zeros((batch_size, n_priors, 4), dtype=torch.float).to(device)  # (N, 8732, 4)\n",
        "        true_classes = torch.zeros((batch_size, n_priors), dtype=torch.long).to(device)  # (N, 8732)\n",
        "\n",
        "        # For each image\n",
        "        for i in range(batch_size):\n",
        "            n_objects = boxes[i].size(0)\n",
        "\n",
        "            overlap = find_jaccard_overlap(boxes[i],\n",
        "                                           self.priors_xy)  # (n_objects, 8732)\n",
        "\n",
        "            # For each prior, find the object that has the maximum overlap\n",
        "            overlap_for_each_prior, object_for_each_prior = overlap.max(dim=0)  # (8732)\n",
        "\n",
        "            # We don't want a situation where an object is not represented in our positive (non-background) priors -\n",
        "            # 1. An object might not be the best object for all priors, and is therefore not in object_for_each_prior.\n",
        "            # 2. All priors with the object may be assigned as background based on the threshold (0.5).\n",
        "\n",
        "            # To remedy this -\n",
        "            # First, find the prior that has the maximum overlap for each object.\n",
        "            _, prior_for_each_object = overlap.max(dim=1)  # (N_o)\n",
        "\n",
        "            # Then, assign each object to the corresponding maximum-overlap-prior. (This fixes 1.)\n",
        "            object_for_each_prior[prior_for_each_object] = torch.LongTensor(range(n_objects)).to(device)\n",
        "\n",
        "            # To ensure these priors qualify, artificially give them an overlap of greater than 0.5. (This fixes 2.)\n",
        "            overlap_for_each_prior[prior_for_each_object] = 1.\n",
        "\n",
        "            # Encode center-size object coordinates into the form we regressed predicted boxes to\n",
        "            true_locs[i] = cxcy_to_gcxgcy(xy_to_cxcy(boxes[i][object_for_each_prior]), self.priors_cxcy)  # (8732, 4)\n",
        "\n",
        "            # Labels for each prior\n",
        "            label_for_each_prior = labels[i][object_for_each_prior]  # (8732)\n",
        "            # Set priors whose overlaps with objects are less than the threshold to be background (no object)\n",
        "            label_for_each_prior[overlap_for_each_prior < self.threshold] = 0  # (8732)\n",
        "\n",
        "            # Store\n",
        "            true_classes[i] = label_for_each_prior\n",
        "\n",
        "        # Identify priors that are positive (object/non-background)\n",
        "        positive_priors = true_classes != 0  # (N, 8732)\n",
        "\n",
        "        # LOCALIZATION LOSS\n",
        "\n",
        "        # Localization loss is computed only over positive (non-background) priors\n",
        "        loc_loss = self.smooth_l1(predicted_locs[positive_priors], true_locs[positive_priors])  # (), scalar\n",
        "\n",
        "        # Note: indexing with a torch.uint8 (byte) tensor flattens the tensor when indexing is across multiple dimensions (N & 8732)\n",
        "        # So, if predicted_locs has the shape (N, 8732, 4), predicted_locs[positive_priors] will have (total positives, 4)\n",
        "\n",
        "        # CONFIDENCE LOSS\n",
        "\n",
        "        # Confidence loss is computed over positive priors and the most difficult (hardest) negative priors in each image\n",
        "        # That is, FOR EACH IMAGE,\n",
        "        # we will take the hardest (neg_pos_ratio * n_positives) negative priors, i.e where there is maximum loss\n",
        "        # This is called Hard Negative Mining - it concentrates on hardest negatives in each image, and also minimizes pos/neg imbalance\n",
        "\n",
        "        # Number of positive and hard-negative priors per image\n",
        "        n_positives = positive_priors.sum(dim=1)  # (N)\n",
        "        n_hard_negatives = self.neg_pos_ratio * n_positives  # (N)\n",
        "\n",
        "        # First, find the loss for all priors\n",
        "        conf_loss_all = self.cross_entropy(predicted_scores.view(-1, n_classes), true_classes.view(-1))  # (N * 8732)\n",
        "        conf_loss_all = conf_loss_all.view(batch_size, n_priors)  # (N, 8732)\n",
        "\n",
        "        # We already know which priors are positive\n",
        "        conf_loss_pos = conf_loss_all[positive_priors]  # (sum(n_positives))\n",
        "\n",
        "        # Next, find which priors are hard-negative\n",
        "        # To do this, sort ONLY negative priors in each image in order of decreasing loss and take top n_hard_negatives\n",
        "        conf_loss_neg = conf_loss_all.clone()  # (N, 8732)\n",
        "        conf_loss_neg[positive_priors] = 0.  # (N, 8732), positive priors are ignored (never in top n_hard_negatives)\n",
        "        conf_loss_neg, _ = conf_loss_neg.sort(dim=1, descending=True)  # (N, 8732), sorted by decreasing hardness\n",
        "        hardness_ranks = torch.LongTensor(range(n_priors)).unsqueeze(0).expand_as(conf_loss_neg).to(device)  # (N, 8732)\n",
        "        hard_negatives = hardness_ranks < n_hard_negatives.unsqueeze(1)  # (N, 8732)\n",
        "        conf_loss_hard_neg = conf_loss_neg[hard_negatives]  # (sum(n_hard_negatives))\n",
        "\n",
        "        # As in the paper, averaged over positive priors only, although computed over both positive and hard-negative priors\n",
        "        conf_loss = (conf_loss_hard_neg.sum() + conf_loss_pos.sum()) / n_positives.sum().float()  # (), scalar\n",
        "\n",
        "        # TOTAL LOSS\n",
        "\n",
        "        return conf_loss + self.alpha * loc_loss"
      ],
      "execution_count": 0,
      "outputs": []
    },
    {
      "metadata": {
        "id": "fRdIWwVzaPgs",
        "colab_type": "text"
      },
      "cell_type": "markdown",
      "source": [
        "## Training"
      ]
    },
    {
      "metadata": {
        "id": "MlQJa05oa9F_",
        "colab_type": "text"
      },
      "cell_type": "markdown",
      "source": [
        "### Learning Parameters"
      ]
    },
    {
      "metadata": {
        "id": "rUyFXhi9bCmQ",
        "colab_type": "code",
        "colab": {}
      },
      "cell_type": "code",
      "source": [
        "batch_size=16\n",
        "checkpoint = Path(\"/gdrive/My Drive/SSD_weights/BEST_checkpoint_ssd300.pt\")\n",
        "n_classes = len(trainset.class_names)  # number of different types of objects\n",
        "start_epoch = 0  # start at this epoch\n",
        "epochs = 50  # number of epochs to run without early-stopping\n",
        "epochs_since_improvement = 0  # number of epochs since there was an improvement in the validation metric\n",
        "best_loss = 100.  # assume a high loss at first\n",
        "workers = 4  # number of workers for loading data in the DataLoader\n",
        "lr = 1e-3  # learning rate\n",
        "weight_decay = 5e-4  # weight decay"
      ],
      "execution_count": 0,
      "outputs": []
    },
    {
      "metadata": {
        "id": "nDGeyBAJjoZH",
        "colab_type": "text"
      },
      "cell_type": "markdown",
      "source": [
        "### DataLoader"
      ]
    },
    {
      "metadata": {
        "id": "AEzKgJ6gnNMs",
        "colab_type": "code",
        "colab": {}
      },
      "cell_type": "code",
      "source": [
        "def collate_fn( batch):\n",
        "  \"\"\"\n",
        "  Since each image may have a different number of objects, we need a collate function (to be passed to the DataLoader).\n",
        "\n",
        "  This describes how to combine these tensors of different sizes. We use lists.\n",
        "\n",
        "  Note: this need not be defined in this Class, can be standalone.\n",
        "\n",
        "  :param batch: an iterable of N sets from __getitem__()\n",
        "  :return: a tensor of images, lists of varying-size tensors of bounding boxes, labels\n",
        "  \"\"\"\n",
        "  images = list()\n",
        "  boxes = list()\n",
        "  labels = list()\n",
        "  \n",
        "  for b in batch:\n",
        "      images.append(b[0])\n",
        "      boxes.append(b[1])\n",
        "      labels.append(b[2])\n",
        "\n",
        "  images = torch.stack(images, dim=0)\n",
        "  return images, boxes, labels  # tensor (N, ...), 3 lists of N tensors each\n",
        "\n",
        "loader_param = { \"batch_size\":batch_size,\n",
        "                 \"pin_memory\":True,\n",
        "                 \"num_workers\":workers,\n",
        "                 \"collate_fn\":collate_fn}\n",
        "\n",
        "trainLoader = DataLoader(trainset,**loader_param,shuffle=True)\n",
        "\n",
        "valsampler = torch.utils.data.RandomSampler(valset, replacement=True, num_samples=1000)\n",
        "valLoader = DataLoader(valset  ,**loader_param ,shuffle=False, sampler=valsampler)"
      ],
      "execution_count": 0,
      "outputs": []
    },
    {
      "metadata": {
        "id": "_4D15pJXazu4",
        "colab_type": "text"
      },
      "cell_type": "markdown",
      "source": [
        "### Train method"
      ]
    },
    {
      "metadata": {
        "id": "gf9YYyzyXhBV",
        "colab_type": "code",
        "colab": {}
      },
      "cell_type": "code",
      "source": [
        "def train(train_loader, model, criterion, optimizer, epoch):\n",
        "    \"\"\"\n",
        "    One epoch's training.\n",
        "\n",
        "    :param train_loader: DataLoader for training data\n",
        "    :param model: model\n",
        "    :param criterion: MultiBox loss\n",
        "    :param optimizer: optimizer\n",
        "    :param epoch: epoch number\n",
        "    \"\"\"\n",
        "    model.train()  # training mode enables dropout\n",
        "\n",
        "    batch_time = AverageMeter()  # forward prop. + back prop. time\n",
        "    data_time = AverageMeter()  # data loading time\n",
        "    losses = AverageMeter()  # loss\n",
        "\n",
        "    start = time.time()\n",
        "\n",
        "    # Batches\n",
        "    for i, (images, boxes, labels) in enumerate(train_loader):\n",
        "        data_time.update(time.time() - start)\n",
        "\n",
        "        # Move to default device\n",
        "        images = images.to(device)  # (batch_size (N), 3, 300, 300)\n",
        "        boxes = [b.to(device) for b in boxes]\n",
        "        labels = [l.to(device) for l in labels]\n",
        "\n",
        "        # Forward prop.\n",
        "        predicted_locs, predicted_scores = model(images)  # (N, 8732, 4), (N, 8732, n_classes)\n",
        "\n",
        "        # Loss\n",
        "        loss = criterion(predicted_locs, predicted_scores, boxes, labels)  # scalar\n",
        "\n",
        "        # Backward prop.\n",
        "        optimizer.zero_grad()\n",
        "        loss.backward()\n",
        "        \n",
        "        #clip_gradient(optimizer, 0.5)        # Update model\n",
        "        optimizer.step()\n",
        "\n",
        "        losses.update(loss.item(), images.size(0))\n",
        "        batch_time.update(time.time() - start)\n",
        "\n",
        "        start = time.time()\n",
        "\n",
        "        # Print status\n",
        "    print(' Epoch: [{0}]\\t'\n",
        "          'TRAIN  Loss {loss.avg:.4f}\\t'.format(epoch, loss=losses))\n",
        "    del predicted_locs, predicted_scores, images, boxes, labels  # free some memory since their histories may be stored\n",
        "    return losses.avg"
      ],
      "execution_count": 0,
      "outputs": []
    },
    {
      "metadata": {
        "id": "Zj7arGsda4Rm",
        "colab_type": "text"
      },
      "cell_type": "markdown",
      "source": [
        "### Validate method"
      ]
    },
    {
      "metadata": {
        "id": "Kqa7e8t7ahND",
        "colab_type": "code",
        "colab": {}
      },
      "cell_type": "code",
      "source": [
        "def validate(val_loader, model, criterion):\n",
        "    \"\"\"\n",
        "    One epoch's validation.\n",
        "\n",
        "    :param val_loader: DataLoader for validation data\n",
        "    :param model: model\n",
        "    :param criterion: MultiBox loss\n",
        "    :return: average validation loss\n",
        "    \"\"\"\n",
        "    model.eval()  # eval mode disables dropout\n",
        "\n",
        "    batch_time = AverageMeter()\n",
        "    losses = AverageMeter()\n",
        "\n",
        "    start = time.time()\n",
        "\n",
        "    # Prohibit gradient computation explicity because I had some problems with memory\n",
        "    with torch.no_grad():\n",
        "        # Batches\n",
        "        for i, (images, boxes, labels) in enumerate(val_loader):\n",
        "\n",
        "            # Move to default device\n",
        "            images = images.to(device)  # (N, 3, 300, 300)\n",
        "            boxes = [b.to(device) for b in boxes]\n",
        "            labels = [l.to(device) for l in labels]\n",
        "\n",
        "            # Forward prop.\n",
        "            predicted_locs, predicted_scores = model(images)  # (N, 8732, 4), (N, 8732, n_classes)\n",
        "\n",
        "            # Loss\n",
        "            loss = criterion(predicted_locs, predicted_scores, boxes, labels)\n",
        "\n",
        "            losses.update(loss.item(), images.size(0))\n",
        "            batch_time.update(time.time() - start)\n",
        "\n",
        "            start = time.time()\n",
        "\n",
        "    print('\\n * VAL LOSS - {loss.avg:.3f}\\n'.format(loss=losses))\n",
        "\n",
        "    return losses.avg\n"
      ],
      "execution_count": 0,
      "outputs": []
    },
    {
      "metadata": {
        "id": "FpYYzGTJjhhg",
        "colab_type": "text"
      },
      "cell_type": "markdown",
      "source": [
        "### Actual training"
      ]
    },
    {
      "metadata": {
        "id": "kmXSwUevexbu",
        "colab_type": "code",
        "colab": {}
      },
      "cell_type": "code",
      "source": [
        "def main(epochs):\n",
        "  \"\"\"\n",
        "  \n",
        "  Training and validation.\n",
        "  \"\"\"\n",
        "  global epochs_since_improvement, start_epoch, best_loss, checkpoint\n",
        "  model = SSD300(n_classes=n_classes).to(device)\n",
        "  # Initialize the optimizer, with twice the default learning rate for biases, as in the original Caffe repo\n",
        "  biases = list()\n",
        "  not_biases = list()\n",
        "  for param_name, param in model.named_parameters():\n",
        "      if param.requires_grad:\n",
        "          if param_name.endswith('.bias'):\n",
        "              biases.append(param)\n",
        "          else:\n",
        "              not_biases.append(param)\n",
        "  optimizer = torch.optim.SGD(params=[{'params': biases, 'lr': 2 * lr}, {'params': not_biases}],\n",
        "                 lr=lr, \n",
        "                 weight_decay=weight_decay)\n",
        "  del biases ,not_biases \n",
        "  # Initialize model or load checkpoint\n",
        "  if not checkpoint.exists():\n",
        "      model.load_pretrained_base()\n",
        "\n",
        "  else:\n",
        "      checkpoint_dict = torch.load(checkpoint)\n",
        "      start_epoch = checkpoint_dict['epoch'] + 1\n",
        "      epochs_since_improvement = checkpoint_dict['epochs_since_improvement']\n",
        "      best_loss = checkpoint_dict['best_loss']\n",
        "      print('\\nLoaded checkpoint from epoch %d. Best loss so far is %.3f.\\n' % (start_epoch, best_loss))\n",
        "      model.load_state_dict(checkpoint_dict['model'])\n",
        "      optimizer.load_state_dict(checkpoint_dict['optimizer']) \n",
        "\n",
        "  criterion = MultiBoxLoss(priors_cxcy=model.priors_cxcy).to(device)\n",
        "\n",
        "  # Epochs\n",
        "  for epoch in trange(start_epoch,start_epoch+epochs):\n",
        "      # Paper describes decaying the learning rate at the 80000th, 100000th, 120000th 'iteration', i.e. model update or batch\n",
        "      # The paper uses a batch size of 32 (regardless of what we use), which means there are about 517 batches in an epoch\n",
        "      # if epoch in {80000 // 517, 100000 // 517, 120000 // 517}:\n",
        "      #     adjust_learning_rate(optimizer, 0.1)\n",
        "      # In practice, I just decayed the learning rate when loss stopped improving for long periods,\n",
        "      # and I would resume from the last best checkpoint with the new learning rate,\n",
        "      # since there's no point in resuming at the most recent and significantly worse checkpoint.\n",
        "      # So, just do adjust_learning_rate(optimizer, 0.1) when you're ready\n",
        "\n",
        "      # One epoch's training\n",
        "      train_loss = train(train_loader=trainLoader,\n",
        "            model=model,\n",
        "            criterion=criterion,\n",
        "            optimizer=optimizer,\n",
        "            epoch=epoch)\n",
        "\n",
        "      # One epoch's validation\n",
        "      val_loss = validate(val_loader=valLoader,\n",
        "                          model=model,\n",
        "                          criterion=criterion)\n",
        "\n",
        "      # Did validation loss improve?\n",
        "      is_best = val_loss < best_loss\n",
        "      best_loss = min(val_loss, best_loss)\n",
        "\n",
        "      if not is_best:\n",
        "          epochs_since_improvement += 1\n",
        "          print(\"\\nEpochs since last improvement: %d\\n\" % (epochs_since_improvement,))\n",
        "\n",
        "      else:\n",
        "          epochs_since_improvement = 0\n",
        "\n",
        "      # Save checkpoint\n",
        "      save_checkpoint(epoch, epochs_since_improvement, model, optimizer, train_loss, best_loss, is_best)\n",
        "  return model"
      ],
      "execution_count": 0,
      "outputs": []
    },
    {
      "metadata": {
        "id": "6A1zhC0TkdK4",
        "colab_type": "code",
        "colab": {
          "base_uri": "https://localhost:8080/",
          "height": 1250
        },
        "outputId": "d739a160-e9d6-4a46-9167-00b73d38eb0f"
      },
      "cell_type": "code",
      "source": [
        "model = main(epochs=epochs)"
      ],
      "execution_count": 0,
      "outputs": [
        {
          "output_type": "stream",
          "text": [
            "\r  0%|          | 0/50 [00:00<?, ?it/s]"
          ],
          "name": "stderr"
        },
        {
          "output_type": "stream",
          "text": [
            "Freeze first 4 layers\n",
            "\n",
            "Loaded base model.\n",
            "\n",
            " Epoch: [0]\tTRAIN  Loss 13.3880\t\n",
            "\n",
            " * VAL LOSS - 13.137\n",
            "\n"
          ],
          "name": "stdout"
        },
        {
          "output_type": "stream",
          "text": [
            "\r  2%|▏         | 1/50 [09:26<7:42:59, 566.94s/it]"
          ],
          "name": "stderr"
        },
        {
          "output_type": "stream",
          "text": [
            " Epoch: [1]\tTRAIN  Loss 13.0251\t\n",
            "\n",
            " * VAL LOSS - 12.911\n",
            "\n"
          ],
          "name": "stdout"
        },
        {
          "output_type": "stream",
          "text": [
            "\r  4%|▍         | 2/50 [18:53<7:33:29, 566.86s/it]"
          ],
          "name": "stderr"
        },
        {
          "output_type": "stream",
          "text": [
            " Epoch: [2]\tTRAIN  Loss 12.8138\t\n",
            "\n",
            " * VAL LOSS - 12.700\n",
            "\n"
          ],
          "name": "stdout"
        },
        {
          "output_type": "stream",
          "text": [
            "\r  6%|▌         | 3/50 [28:20<7:23:57, 566.75s/it]"
          ],
          "name": "stderr"
        },
        {
          "output_type": "stream",
          "text": [
            " Epoch: [3]\tTRAIN  Loss 12.6013\t\n",
            "\n",
            " * VAL LOSS - 12.461\n",
            "\n"
          ],
          "name": "stdout"
        },
        {
          "output_type": "stream",
          "text": [
            "\r  8%|▊         | 4/50 [37:46<7:14:29, 566.73s/it]"
          ],
          "name": "stderr"
        },
        {
          "output_type": "stream",
          "text": [
            " Epoch: [4]\tTRAIN  Loss 12.3224\t\n",
            "\n",
            " * VAL LOSS - 12.162\n",
            "\n"
          ],
          "name": "stdout"
        },
        {
          "output_type": "stream",
          "text": [
            "\r 10%|█         | 5/50 [47:13<7:05:02, 566.73s/it]"
          ],
          "name": "stderr"
        },
        {
          "output_type": "stream",
          "text": [
            " Epoch: [5]\tTRAIN  Loss 11.9405\t\n",
            "\n",
            " * VAL LOSS - 11.563\n",
            "\n"
          ],
          "name": "stdout"
        },
        {
          "output_type": "stream",
          "text": [
            "\r 12%|█▏        | 6/50 [56:40<6:55:33, 566.67s/it]"
          ],
          "name": "stderr"
        },
        {
          "output_type": "stream",
          "text": [
            " Epoch: [6]\tTRAIN  Loss 10.0256\t\n",
            "\n",
            " * VAL LOSS - 9.710\n",
            "\n"
          ],
          "name": "stdout"
        },
        {
          "output_type": "stream",
          "text": [
            "\r 14%|█▍        | 7/50 [1:06:06<6:46:04, 566.62s/it]"
          ],
          "name": "stderr"
        },
        {
          "output_type": "stream",
          "text": [
            " Epoch: [7]\tTRAIN  Loss 7.2032\t\n",
            "\n",
            " * VAL LOSS - 6.699\n",
            "\n"
          ],
          "name": "stdout"
        },
        {
          "output_type": "stream",
          "text": [
            "\r 16%|█▌        | 8/50 [1:15:32<6:36:27, 566.36s/it]"
          ],
          "name": "stderr"
        },
        {
          "output_type": "stream",
          "text": [
            " Epoch: [8]\tTRAIN  Loss 6.4497\t\n",
            "\n",
            " * VAL LOSS - 6.394\n",
            "\n"
          ],
          "name": "stdout"
        },
        {
          "output_type": "stream",
          "text": [
            "\r 18%|█▊        | 9/50 [1:24:58<6:26:59, 566.32s/it]"
          ],
          "name": "stderr"
        },
        {
          "output_type": "stream",
          "text": [
            " Epoch: [9]\tTRAIN  Loss 6.1680\t\n",
            "\n",
            " * VAL LOSS - 6.126\n",
            "\n"
          ],
          "name": "stdout"
        },
        {
          "output_type": "stream",
          "text": [
            "\r 20%|██        | 10/50 [1:34:24<6:17:32, 566.32s/it]"
          ],
          "name": "stderr"
        },
        {
          "output_type": "stream",
          "text": [
            " Epoch: [10]\tTRAIN  Loss 5.9855\t\n",
            "\n",
            " * VAL LOSS - 5.913\n",
            "\n"
          ],
          "name": "stdout"
        },
        {
          "output_type": "stream",
          "text": [
            "\r 22%|██▏       | 11/50 [1:43:50<6:08:00, 566.16s/it]"
          ],
          "name": "stderr"
        },
        {
          "output_type": "stream",
          "text": [
            " Epoch: [11]\tTRAIN  Loss 5.8747\t\n",
            "\n",
            " * VAL LOSS - 6.103\n",
            "\n",
            "\n",
            "Epochs since last improvement: 1\n",
            "\n"
          ],
          "name": "stdout"
        },
        {
          "output_type": "stream",
          "text": [
            "\r 24%|██▍       | 12/50 [1:53:16<5:58:35, 566.20s/it]"
          ],
          "name": "stderr"
        },
        {
          "output_type": "stream",
          "text": [
            " Epoch: [12]\tTRAIN  Loss 5.7632\t\n",
            "\n",
            " * VAL LOSS - 5.923\n",
            "\n",
            "\n",
            "Epochs since last improvement: 2\n",
            "\n"
          ],
          "name": "stdout"
        },
        {
          "output_type": "stream",
          "text": [
            "\r 26%|██▌       | 13/50 [2:02:42<5:49:06, 566.12s/it]"
          ],
          "name": "stderr"
        },
        {
          "output_type": "stream",
          "text": [
            " Epoch: [13]\tTRAIN  Loss 5.6736\t\n",
            "\n",
            " * VAL LOSS - 5.750\n",
            "\n"
          ],
          "name": "stdout"
        },
        {
          "output_type": "stream",
          "text": [
            "\r 28%|██▊       | 14/50 [2:12:09<5:39:42, 566.17s/it]"
          ],
          "name": "stderr"
        },
        {
          "output_type": "stream",
          "text": [
            " Epoch: [14]\tTRAIN  Loss 5.5286\t\n",
            "\n",
            " * VAL LOSS - 5.504\n",
            "\n"
          ],
          "name": "stdout"
        },
        {
          "output_type": "stream",
          "text": [
            "\r 30%|███       | 15/50 [2:21:35<5:30:21, 566.33s/it]"
          ],
          "name": "stderr"
        }
      ]
    },
    {
      "metadata": {
        "id": "XjWIxNjSpz9D",
        "colab_type": "text"
      },
      "cell_type": "markdown",
      "source": [
        "## Detection"
      ]
    },
    {
      "metadata": {
        "id": "UamiNLa_IsmD",
        "colab_type": "code",
        "colab": {}
      },
      "cell_type": "code",
      "source": [
        "def detect_objects( predicted_locs, predicted_scores, priors_cxcy,min_score=0.2, max_overlap=0.5, top_k=200):\n",
        "  \"\"\"\n",
        "  Decipher the 8732 locations and class scores (output of ths SSD300) to detect objects.\n",
        "\n",
        "  For each class, perform Non-Maximum Suppression (NMS) on boxes that are above a minimum threshold.\n",
        "\n",
        "  :param predicted_locs: predicted locations/boxes w.r.t the 8732 prior boxes, a tensor of dimensions (N, 8732, 4)\n",
        "  :param predicted_scores: class scores for each of the encoded locations/boxes, a tensor of dimensions (N, 8732, n_classes)\n",
        "  :param min_score: minimum threshold for a box to be considered a match for a certain class\n",
        "  :param max_overlap: maximum overlap two boxes can have so that the one with the lower score is not suppressed via NMS\n",
        "  :param top_k: if there are a lot of resulting detection across all classes, keep only the top 'k'\n",
        "  :param prior_boxes the anchor box generated in the model\n",
        "  :return: detections (boxes, labels, and scores), lists of length batch_size\n",
        "  \"\"\"\n",
        "  batch_size = predicted_locs.shape[0]\n",
        "  n_priors = priors_cxcy.shape[0]\n",
        "  predicted_scores = F.softmax(predicted_scores , dim=2) # (N, 8732, n_classes)\n",
        "  \n",
        "  # Lists to store final predicted boxes, labels, and scores for all images\n",
        "  all_images_boxes = list()\n",
        "  all_images_labels = list()\n",
        "  all_images_scores = list()\n",
        "        \n",
        "  assert n_priors == predicted_locs.size(1) == predicted_scores.size(1)\n",
        "  \n",
        "  for i in range(batch_size):\n",
        "    decoded_locs = cxcy_to_xy(gcxgcy_to_cxcy(predicted_locs[i], priors_cxcy))  # (8732, 4), these are fractional pt. coordinates\n",
        "    \n",
        "    # Lists to store boxes and scores for this image\n",
        "    image_boxes = list()\n",
        "    image_labels = list()\n",
        "    image_scores = list()\n",
        "        \n",
        "    # check for each classes\n",
        "    for c in range(1 , n_classes):\n",
        "      # Keep only predicted boxes and scores where scores for this class are above the minimum score\n",
        "      class_scores = predicted_scores[i][:,c]\n",
        "      score_above_min_score = class_scores > min_score\n",
        "      \n",
        "      n_above_min_score = score_above_min_score.sum().item()\n",
        "      if n_above_min_score == 0:\n",
        "        continue\n",
        "      \n",
        "      class_scores = class_scores[score_above_min_score]\n",
        "      class_decoded_locs = decoded_locs[score_above_min_score]\n",
        "      \n",
        "      class_scores , sort_index = class_scores.sort(dim=0 , descending=True)\n",
        "      class_decoded_locs = class_decoded_locs[sort_index]\n",
        "\n",
        "      # Find the overlap between predicted boxes\n",
        "      overlap = find_jaccard_overlap(class_decoded_locs, class_decoded_locs)  \n",
        "\n",
        "      # Non-Maximum Suppression (NMS)\n",
        "\n",
        "      # A torch.uint8 (byte) tensor to keep track of which predicted boxes to suppress\n",
        "      # 1 implies suppress, 0 implies don't suppress\n",
        "      \n",
        "      suppress = torch.zeros((n_above_min_score), dtype=torch.uint8).to(device)  # (n_qualified)\n",
        "      \n",
        "      for box in range(class_decoded_locs.size(0)):\n",
        "        if suppress[box] ==1:\n",
        "          continue\n",
        "        \n",
        "        # Suppress boxes whose overlaps (with this box) are greater than maximum overlap\n",
        "        # Find such boxes and update suppress indices\n",
        "        suppress = torch.max(suppress, overlap[box] > max_overlap)\n",
        "        # The max operation retains previously suppressed boxes, like an 'OR' operation\n",
        "\n",
        "        # Don't suppress this box, even though it has an overlap of 1 with itself\n",
        "        suppress[box] = 0\n",
        "        \n",
        "      # Store only unsuppressed boxes for this class\n",
        "      image_boxes.append(class_decoded_locs[1 - suppress])\n",
        "      image_labels.append(torch.LongTensor((1 - suppress).sum().item() * [c]).to(device))\n",
        "      image_scores.append(class_scores[1 - suppress])\n",
        "      \n",
        "     # If no object in any class is found, store a placeholder for 'background'\n",
        "    if len(image_boxes) == 0:\n",
        "        image_boxes.append(torch.FloatTensor([[0., 0., 1., 1.]]).to(device))\n",
        "        image_labels.append(torch.LongTensor([0]).to(device))\n",
        "        image_scores.append(torch.FloatTensor([0.]).to(device))\n",
        "\n",
        "    # Concatenate into single tensors\n",
        "    image_boxes = torch.cat(image_boxes, dim=0)  # (n_objects, 4)\n",
        "    image_labels = torch.cat(image_labels, dim=0)  # (n_objects)\n",
        "    image_scores = torch.cat(image_scores, dim=0)  # (n_objects)\n",
        "    n_objects = image_scores.size(0)\n",
        "\n",
        "    # Keep only the top k objects\n",
        "    if n_objects > top_k:\n",
        "        image_scores, sort_ind = image_scores.sort(dim=0, descending=True)\n",
        "        image_scores = image_scores[:top_k]  # (top_k)\n",
        "        image_boxes = image_boxes[sort_ind][:top_k]  # (top_k, 4)\n",
        "        image_labels = image_labels[sort_ind][:top_k]  # (top_k)\n",
        "\n",
        "    # Append to lists that store predicted boxes and scores for all images\n",
        "    all_images_boxes.append(image_boxes)\n",
        "    all_images_labels.append(image_labels)\n",
        "    all_images_scores.append(image_scores)\n",
        "    \n",
        "  return all_images_boxes, all_images_labels, all_images_scores  # lists of length batch_size\n",
        "\n",
        "      "
      ],
      "execution_count": 0,
      "outputs": []
    },
    {
      "metadata": {
        "id": "sUf4U2_xhX7K",
        "colab_type": "code",
        "colab": {}
      },
      "cell_type": "code",
      "source": [
        "!wget https://i.pinimg.com/736x/4c/9e/2c/4c9e2c072ca71f045d6d7b0cb7398e02.jpg -O image.jpg\n",
        "image = Image.open(\"image.jpg\")\n",
        "new_image = FT.resize(image,(300, 300))\n",
        "\n",
        "# Convert PIL image to Torch tensor\n",
        "new_image = FT.to_tensor(new_image)\n",
        "\n",
        "# Normalize by mean and standard deviation of ImageNet data that our base VGG was trained on\n",
        "new_image = FT.normalize(new_image, mean=trainLoader.dataset.mean, std=trainLoader.dataset.std)\n",
        "new_image = new_image.unsqueeze(0)\n",
        "new_image = new_image.to(device)\n",
        "predicted_locs , predicted_scores = model(new_image)\n",
        "det_boxes, det_labels, det_scores = detect_objects(predicted_locs, predicted_scores ,  priors_cxcy = model.priors_cxcy,min_score=0.3)\n",
        "i , b , l ,s = new_image, det_boxes[0].to(\"cpu\"), det_labels[0].to(\"cpu\"), det_scores[0].to(\"cpu\")\n",
        "i = i.clone().detach().to(\"cpu\").data\n",
        "if len(i.shape)==4 : i = i.squeeze(0)\n",
        "i = i.permute(1,2,0) \n",
        "i = i.mul_(trainLoader.dataset.std).add_(trainLoader.dataset.mean)\n",
        "i = torch.clamp(i,0,1)\n",
        "f, ax1 = plt.subplots(1, 1,figsize=(15,10))   \n",
        "ax1.imshow(i)\n",
        "ax1.grid(False)\n",
        "ax1.set_xticks([])\n",
        "ax1.set_yticks([])\n",
        "\n",
        "for box ,label,score in zip(b , l,s):\n",
        "  box = box * torch.FloatTensor([300]*4)\n",
        "  draw_rect(ax1,box )\n",
        "  draw_text(ax1, box[:2], trainLoader.dataset.class_names[label]+\" \"+str(score.item()), sz=16)"
      ],
      "execution_count": 0,
      "outputs": []
    },
    {
      "metadata": {
        "id": "AEveXtjlrzD8",
        "colab_type": "code",
        "colab": {}
      },
      "cell_type": "code",
      "source": [
        "f.savefig(\"Objectdetect.jpg\")"
      ],
      "execution_count": 0,
      "outputs": []
    },
    {
      "metadata": {
        "id": "RKak-eLWtyEp",
        "colab_type": "code",
        "colab": {}
      },
      "cell_type": "code",
      "source": [
        "!cp Objectdetect.jpg /gdrive/My\\ Drive/"
      ],
      "execution_count": 0,
      "outputs": []
    }
  ]
}